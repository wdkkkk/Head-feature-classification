{
 "cells": [
  {
   "cell_type": "code",
   "execution_count": 7,
   "metadata": {},
   "outputs": [],
   "source": [
    "import os\n",
    "import shutil\n",
    "import random\n",
    "import pandas as pd\n",
    "\n",
    "# 定义输入文件夹、输出文件夹和CSV文件\n",
    "input_folder = './images'  # 输入图像文件夹，包含所有图像文件\n",
    "output_train_folder = 'image_train'  # 训练集输出文件夹\n",
    "output_test_folder = 'image_test'  # 测试集输出文件夹\n",
    "csv_file = './anno.csv'  # 包含图像标注的CSV文件\n",
    "\n",
    "# 创建输出文件夹\n",
    "os.makedirs(output_train_folder, exist_ok=True)\n",
    "os.makedirs(output_test_folder, exist_ok=True)\n",
    "\n",
    "# 获取所有图像文件列表\n",
    "image_files = [f for f in sorted(os.listdir(\n",
    "    input_folder)) if os.path.isfile(os.path.join(input_folder, f))]\n",
    "\n",
    "# 计算划分比例\n",
    "train_ratio = 0.8\n",
    "test_ratio = 0.2\n",
    "\n",
    "# 随机打乱图像文件列表\n",
    "random.shuffle(image_files)\n",
    "\n",
    "# 根据划分比例计算训练集和测试集的数量\n",
    "num_total_images = len(image_files)\n",
    "num_train_images = int(num_total_images * train_ratio)\n",
    "num_test_images = num_total_images - num_train_images\n",
    "\n",
    "# 将图像文件复制到训练集文件夹\n",
    "for i in range(num_train_images):\n",
    "    source_path = os.path.join(input_folder, image_files[i])\n",
    "    destination_path = os.path.join(output_train_folder, image_files[i])\n",
    "    shutil.copyfile(source_path, destination_path)\n",
    "\n",
    "# 将剩余的图像文件复制到测试集文件夹\n",
    "for i in range(num_train_images, num_total_images):\n",
    "    source_path = os.path.join(input_folder, image_files[i])\n",
    "    destination_path = os.path.join(output_test_folder, image_files[i])\n",
    "    shutil.copyfile(source_path, destination_path)\n"
   ]
  },
  {
   "cell_type": "code",
   "execution_count": 6,
   "metadata": {},
   "outputs": [
    {
     "name": "stdout",
     "output_type": "stream",
     "text": [
      "划分完成，训练集包含 40000 张图像和相应的标注，测试集包含 10000 张图像和相应的标注。\n"
     ]
    }
   ],
   "source": [
    "# 读取CSV文件\n",
    "df = pd.read_csv(csv_file)\n",
    "\n",
    "# 根据图像文件名划分CSV数据\n",
    "train_csv = df[df.iloc[:, 0].isin(image_files[:num_train_images])]\n",
    "test_csv = df[df.iloc[:, 0].isin(image_files[num_train_images:])]\n",
    "\n",
    "\n",
    "# 保存划分后的CSV文件\n",
    "train_csv.to_csv('train_anno.csv', index=False)\n",
    "test_csv.to_csv('test_anno.csv', index=False)\n",
    "\n",
    "print(\n",
    "    f\"划分完成，训练集包含 {num_train_images} 张图像和相应的标注，测试集包含 {num_test_images} 张图像和相应的标注。\")"
   ]
  }
 ],
 "metadata": {
  "kernelspec": {
   "display_name": "wdk-base",
   "language": "python",
   "name": "python3"
  },
  "language_info": {
   "codemirror_mode": {
    "name": "ipython",
    "version": 3
   },
   "file_extension": ".py",
   "mimetype": "text/x-python",
   "name": "python",
   "nbconvert_exporter": "python",
   "pygments_lexer": "ipython3",
   "version": "3.8.18"
  }
 },
 "nbformat": 4,
 "nbformat_minor": 2
}
